{
 "cells": [
  {
   "cell_type": "code",
   "execution_count": 4,
   "metadata": {},
   "outputs": [],
   "source": [
    "import torch\n",
    "import torch.nn as nn\n",
    "import torch.optim as optim\n",
    "from torchvision import transforms, models\n",
    "from PIL import Image\n",
    "import os\n",
    "from tqdm import tqdm\n",
    "import matplotlib.pyplot as plt  # Para graficar la pérdida\n",
    "from StyleTransferNetwork import StyleTransferNetwork, ResidualBlock\n",
    "\n",
    "def load_image(image_path, size=(512, 512)):\n",
    "    \"\"\"Enhanced image loading with better preprocessing\"\"\"\n",
    "    image = Image.open(image_path).convert('RGB')\n",
    "    transform = transforms.Compose([\n",
    "        transforms.Resize(size),\n",
    "        transforms.RandomHorizontalFlip(),\n",
    "        transforms.ColorJitter(brightness=0.05, contrast=0.05),\n",
    "        transforms.ToTensor(),\n",
    "        transforms.Normalize(mean=[0.485, 0.456, 0.406], std=[0.229, 0.224, 0.225])\n",
    "    ])\n",
    "    image = transform(image).unsqueeze(0)\n",
    "    return image\n",
    "\n",
    "def get_vgg_model():\n",
    "    \"\"\"Load and prepare VGG model with specific layers for feature extraction\"\"\"\n",
    "    vgg = models.vgg19(pretrained=True).features\n",
    "    # Freeze VGG parameters\n",
    "    for param in vgg.parameters():\n",
    "        param.requires_grad_(False)\n",
    "    return vgg.to(torch.device(\"mps\" if torch.backends.mps.is_available() else \"cpu\"))\n",
    "\n",
    "def get_features(image, model, layers=None):\n",
    "    \"\"\"Extract features from specific VGG layers\"\"\"\n",
    "    if layers is None:\n",
    "        layers = {\n",
    "            '0': 'conv1_1',\n",
    "            '5': 'conv2_1',\n",
    "            '10': 'conv3_1',\n",
    "            '19': 'conv4_1',\n",
    "            '28': 'conv5_1'\n",
    "        }\n",
    "    features = {}\n",
    "    x = image\n",
    "    for name, layer in model._modules.items():\n",
    "        x = layer(x)\n",
    "        if name in layers:\n",
    "            features[layers[name]] = x\n",
    "    return features\n",
    "\n",
    "def gram_matrix(tensor):\n",
    "    \"\"\"Calculate Gram Matrix with normalized values\"\"\"\n",
    "    _, d, h, w = tensor.size()\n",
    "    tensor = tensor.view(d, h * w)\n",
    "    gram = torch.mm(tensor, tensor.t())\n",
    "    return gram / (d * h * w)  # Normalize by size\n",
    "\n",
    "def load_style_images(style_dir, max_images=10):\n",
    "    \"\"\"Carga un conjunto de imágenes de estilo.\"\"\"\n",
    "    style_images = []\n",
    "    for img_name in os.listdir(style_dir):\n",
    "        if img_name.lower().endswith(('.jpg', '.jpeg', '.png')):\n",
    "            try:\n",
    "                img = load_image(os.path.join(style_dir, img_name))\n",
    "                style_images.append(img.to(torch.device(\"mps\" if torch.backends.mps.is_available() else \"cpu\")))\n",
    "            except Exception as e:\n",
    "                print(f\"Error al cargar {img_name}: {e}\")\n",
    "            if len(style_images) >= max_images:\n",
    "                break\n",
    "    return style_images\n",
    "\n",
    "def calculate_average_gram_matrix(style_images, vgg_model):\n",
    "    \"\"\"Calcula la matriz de Gram promedio para capturar el estilo.\"\"\"\n",
    "    gram_matrices = []\n",
    "    for style_image in style_images:\n",
    "        style_features = get_features(style_image, vgg_model)\n",
    "        style_grams = {layer: gram_matrix(style_features[layer]) for layer in style_features}\n",
    "        gram_matrices.append(style_grams)\n",
    "    \n",
    "    averaged_style_grams = {}\n",
    "    for layer in gram_matrices[0]:\n",
    "        layer_grams = [grams[layer] for grams in gram_matrices]\n",
    "        averaged_style_grams[layer] = sum(layer_grams) / len(layer_grams)  # Promedio de cada capa\n",
    "    \n",
    "    return averaged_style_grams\n",
    "\n",
    "def train_style_model(averaged_style_grams, model, vgg, style_weight=1e6, tv_weight=1e-6, epochs=2000, lr=1e-3):\n",
    "    \"\"\"Entrena el modelo de estilo para capturar solo el estilo.\"\"\"\n",
    "    device = next(model.parameters()).device\n",
    "    optimizer = optim.Adam(model.parameters(), lr=lr)\n",
    "    scheduler = optim.lr_scheduler.StepLR(optimizer, step_size=500, gamma=0.5)\n",
    "    \n",
    "    # Pesos específicos de capas para la pérdida de estilo\n",
    "    style_weights = {\n",
    "        'conv1_1': 1.0,\n",
    "        'conv2_1': 0.8,\n",
    "        'conv3_1': 0.4,\n",
    "        'conv4_1': 0.2,\n",
    "        'conv5_1': 0.2\n",
    "    }\n",
    "    \n",
    "    best_loss = float('inf')\n",
    "    best_state = None\n",
    "    \n",
    "    # Crear una imagen aleatoria como \"contenido ficticio\"\n",
    "    dummy_content = torch.randn(1, 3, 512, 512, device=device, requires_grad=True)\n",
    "    \n",
    "    # Lista para guardar los valores de la pérdida en cada epoch\n",
    "    loss_history = []\n",
    "\n",
    "    for epoch in tqdm(range(epochs), desc=\"Entrenando\"):\n",
    "        model.train()\n",
    "        optimizer.zero_grad()\n",
    "        \n",
    "        # Generar imagen estilizada ficticia\n",
    "        styled = model(dummy_content)\n",
    "        styled_features = get_features(styled, vgg)\n",
    "        \n",
    "        # Pérdida de estilo usando matrices de Gram promedio\n",
    "        style_loss = 0\n",
    "        for layer in averaged_style_grams:\n",
    "            styled_gram = gram_matrix(styled_features[layer])\n",
    "            style_gram = averaged_style_grams[layer].to(device)\n",
    "            layer_style_loss = torch.mean((styled_gram - style_gram) ** 2) * style_weights[layer]\n",
    "            style_loss += layer_style_loss\n",
    "        \n",
    "        # Pérdida de variación total para suavizar la imagen\n",
    "        tv_loss = torch.mean(torch.abs(styled[:, :, :, :-1] - styled[:, :, :, 1:])) + \\\n",
    "                  torch.mean(torch.abs(styled[:, :, :-1, :] - styled[:, :, 1:, :]))\n",
    "        \n",
    "        # Pérdida total\n",
    "        total_loss = style_weight * style_loss + tv_weight * tv_loss\n",
    "        total_loss.backward()\n",
    "        optimizer.step()\n",
    "        \n",
    "        # Ajustar el programador de tasa de aprendizaje\n",
    "        scheduler.step()\n",
    "        \n",
    "        # Guardar el mejor modelo\n",
    "        if total_loss.item() < best_loss:\n",
    "            best_loss = total_loss.item()\n",
    "            best_state = model.state_dict().copy()\n",
    "        \n",
    "        # Almacenar la pérdida de cada época para graficarla después\n",
    "        loss_history.append(total_loss.item())\n",
    "        \n",
    "        if (epoch + 1) % 100 == 0:\n",
    "            print(f\"Epoch {epoch+1}/{epochs}\")\n",
    "            print(f\"Style Loss: {style_loss.item():.4f}\")\n",
    "            print(f\"TV Loss: {tv_loss.item():.4f}\")\n",
    "            print(f\"Total Loss: {total_loss.item():.4f}\")\n",
    "            print(\"-------------------\")\n",
    "    \n",
    "    # Cargar el mejor estado del modelo\n",
    "    model.load_state_dict(best_state)\n",
    "    \n",
    "    # Graficar la pérdida al finalizar el entrenamiento\n",
    "    plt.plot(loss_history)\n",
    "    plt.xlabel('Épocas')\n",
    "    plt.ylabel('Pérdida Total')\n",
    "    plt.title('Evolución de la Pérdida Durante el Entrenamiento')\n",
    "    plt.show()\n",
    "    \n",
    "    return model\n",
    "\n",
    "def train_and_save_style_models(dataset_path, max_images=10):\n",
    "    \"\"\"Entrena modelos para cada estilo en el dataset y los guarda.\"\"\"\n",
    "    styles = [style for style in os.listdir(dataset_path) if os.path.isdir(os.path.join(dataset_path, style))]\n",
    "    vgg = get_vgg_model()\n",
    "    device = torch.device(\"mps\" if torch.backends.mps.is_available() else \"cpu\")\n",
    "\n",
    "    for style in styles:\n",
    "        print(f\"\\nEntrenando para el estilo: {style}\")\n",
    "        style_dir = os.path.join(dataset_path, style)\n",
    "        \n",
    "        # Cargar imágenes de estilo\n",
    "        style_images = load_style_images(style_dir, max_images=max_images)\n",
    "        \n",
    "        if style_images:\n",
    "            # Calcular matrices de Gram promedio\n",
    "            averaged_style_grams = calculate_average_gram_matrix(style_images, vgg)\n",
    "            \n",
    "            # Inicializar y entrenar el modelo para capturar el estilo\n",
    "            style_model = StyleTransferNetwork().to(device)\n",
    "            trained_model = train_style_model(\n",
    "                averaged_style_grams=averaged_style_grams,\n",
    "                model=style_model,\n",
    "                vgg=vgg,\n",
    "                style_weight=1e5,\n",
    "                tv_weight=1e-6,\n",
    "                epochs=500\n",
    "            )\n",
    "            \n",
    "            # Guardar el modelo\n",
    "            model_path = f\"{style.lower().replace(' ', '_')}_style_model.pth\"\n",
    "            torch.save(trained_model, model_path)\n",
    "            print(f\"Modelo guardado en {model_path}\")\n",
    "        else:\n",
    "            print(f\"No se encontraron imágenes válidas en el directorio de estilo: {style}\")\n"
   ]
  },
  {
   "cell_type": "code",
   "execution_count": 5,
   "metadata": {},
   "outputs": [
    {
     "name": "stderr",
     "output_type": "stream",
     "text": [
      "/opt/homebrew/lib/python3.12/site-packages/torchvision/models/_utils.py:208: UserWarning: The parameter 'pretrained' is deprecated since 0.13 and may be removed in the future, please use 'weights' instead.\n",
      "  warnings.warn(\n",
      "/opt/homebrew/lib/python3.12/site-packages/torchvision/models/_utils.py:223: UserWarning: Arguments other than a weight enum or `None` for 'weights' are deprecated since 0.13 and may be removed in the future. The current behavior is equivalent to passing `weights=VGG19_Weights.IMAGENET1K_V1`. You can also use `weights=VGG19_Weights.DEFAULT` to get the most up-to-date weights.\n",
      "  warnings.warn(msg)\n"
     ]
    },
    {
     "name": "stdout",
     "output_type": "stream",
     "text": [
      "\n",
      "Entrenando para el estilo: Modern_Art\n"
     ]
    },
    {
     "name": "stderr",
     "output_type": "stream",
     "text": [
      "Entrenando:  20%|██        | 100/500 [00:27<01:37,  4.09it/s]"
     ]
    },
    {
     "name": "stdout",
     "output_type": "stream",
     "text": [
      "Epoch 100/500\n",
      "Style Loss: 0.0000\n",
      "TV Loss: 0.3338\n",
      "Total Loss: 1.7014\n",
      "-------------------\n"
     ]
    },
    {
     "name": "stderr",
     "output_type": "stream",
     "text": [
      "Entrenando:  40%|████      | 200/500 [00:52<01:13,  4.07it/s]"
     ]
    },
    {
     "name": "stdout",
     "output_type": "stream",
     "text": [
      "Epoch 200/500\n",
      "Style Loss: 0.0000\n",
      "TV Loss: 0.4001\n",
      "Total Loss: 0.7100\n",
      "-------------------\n"
     ]
    },
    {
     "name": "stderr",
     "output_type": "stream",
     "text": [
      "Entrenando:  60%|██████    | 300/500 [01:16<00:48,  4.09it/s]"
     ]
    },
    {
     "name": "stdout",
     "output_type": "stream",
     "text": [
      "Epoch 300/500\n",
      "Style Loss: 0.0000\n",
      "TV Loss: 0.4063\n",
      "Total Loss: 0.4409\n",
      "-------------------\n"
     ]
    },
    {
     "name": "stderr",
     "output_type": "stream",
     "text": [
      "Entrenando:  80%|████████  | 400/500 [01:41<00:24,  4.01it/s]"
     ]
    },
    {
     "name": "stdout",
     "output_type": "stream",
     "text": [
      "Epoch 400/500\n",
      "Style Loss: 0.0000\n",
      "TV Loss: 0.4039\n",
      "Total Loss: 0.3039\n",
      "-------------------\n"
     ]
    },
    {
     "name": "stderr",
     "output_type": "stream",
     "text": [
      "Entrenando: 100%|██████████| 500/500 [02:06<00:00,  3.95it/s]"
     ]
    },
    {
     "name": "stdout",
     "output_type": "stream",
     "text": [
      "Epoch 500/500\n",
      "Style Loss: 0.0000\n",
      "TV Loss: 0.1812\n",
      "Total Loss: 3.1823\n",
      "-------------------\n"
     ]
    },
    {
     "name": "stderr",
     "output_type": "stream",
     "text": [
      "\n"
     ]
    },
    {
     "data": {
      "image/png": "[encoded data removed]",
      "text/plain": [
       "<Figure size 640x480 with 1 Axes>"
      ]
     },
     "metadata": {},
     "output_type": "display_data"
    },
    {
     "name": "stdout",
     "output_type": "stream",
     "text": [
      "Modelo guardado en modern_art_style_model.pth\n",
      "\n",
      "Entrenando para el estilo: Cubism\n"
     ]
    },
    {
     "name": "stderr",
     "output_type": "stream",
     "text": [
      "Entrenando:  20%|██        | 100/500 [00:24<01:38,  4.07it/s]"
     ]
    },
    {
     "name": "stdout",
     "output_type": "stream",
     "text": [
      "Epoch 100/500\n",
      "Style Loss: 0.0000\n",
      "TV Loss: 0.3708\n",
      "Total Loss: 1.7364\n",
      "-------------------\n"
     ]
    },
    {
     "name": "stderr",
     "output_type": "stream",
     "text": [
      "Entrenando:  40%|████      | 200/500 [00:49<01:15,  3.99it/s]"
     ]
    },
    {
     "name": "stdout",
     "output_type": "stream",
     "text": [
      "Epoch 200/500\n",
      "Style Loss: 0.0000\n",
      "TV Loss: 0.3525\n",
      "Total Loss: 1.0066\n",
      "-------------------\n"
     ]
    },
    {
     "name": "stderr",
     "output_type": "stream",
     "text": [
      "Entrenando:  60%|██████    | 300/500 [01:16<00:52,  3.82it/s]"
     ]
    },
    {
     "name": "stdout",
     "output_type": "stream",
     "text": [
      "Epoch 300/500\n",
      "Style Loss: 0.0000\n",
      "TV Loss: 0.3782\n",
      "Total Loss: 0.5509\n",
      "-------------------\n"
     ]
    },
    {
     "name": "stderr",
     "output_type": "stream",
     "text": [
      "Entrenando:  80%|████████  | 400/500 [01:42<00:27,  3.64it/s]"
     ]
    },
    {
     "name": "stdout",
     "output_type": "stream",
     "text": [
      "Epoch 400/500\n",
      "Style Loss: 0.0000\n",
      "TV Loss: 0.3780\n",
      "Total Loss: 0.3368\n",
      "-------------------\n"
     ]
    },
    {
     "name": "stderr",
     "output_type": "stream",
     "text": [
      "Entrenando: 100%|██████████| 500/500 [02:08<00:00,  3.89it/s]"
     ]
    },
    {
     "name": "stdout",
     "output_type": "stream",
     "text": [
      "Epoch 500/500\n",
      "Style Loss: 0.0000\n",
      "TV Loss: 0.3798\n",
      "Total Loss: 0.2368\n",
      "-------------------\n"
     ]
    },
    {
     "name": "stderr",
     "output_type": "stream",
     "text": [
      "\n"
     ]
    },
    {
     "data": {
      "image/png": "[encoded data removed]",
      "text/plain": [
       "<Figure size 640x480 with 1 Axes>"
      ]
     },
     "metadata": {},
     "output_type": "display_data"
    },
    {
     "name": "stdout",
     "output_type": "stream",
     "text": [
      "Modelo guardado en cubism_style_model.pth\n",
      "\n",
      "Entrenando para el estilo: Impressionism\n"
     ]
    },
    {
     "name": "stderr",
     "output_type": "stream",
     "text": [
      "Entrenando:  20%|██        | 100/500 [00:24<01:37,  4.10it/s]"
     ]
    },
    {
     "name": "stdout",
     "output_type": "stream",
     "text": [
      "Epoch 100/500\n",
      "Style Loss: 0.0000\n",
      "TV Loss: 0.4120\n",
      "Total Loss: 0.5977\n",
      "-------------------\n"
     ]
    },
    {
     "name": "stderr",
     "output_type": "stream",
     "text": [
      "Entrenando:  40%|████      | 200/500 [00:49<01:13,  4.09it/s]"
     ]
    },
    {
     "name": "stdout",
     "output_type": "stream",
     "text": [
      "Epoch 200/500\n",
      "Style Loss: 0.0000\n",
      "TV Loss: 0.4603\n",
      "Total Loss: 0.3206\n",
      "-------------------\n"
     ]
    },
    {
     "name": "stderr",
     "output_type": "stream",
     "text": [
      "Entrenando:  60%|██████    | 300/500 [01:13<00:48,  4.11it/s]"
     ]
    },
    {
     "name": "stdout",
     "output_type": "stream",
     "text": [
      "Epoch 300/500\n",
      "Style Loss: 0.0000\n",
      "TV Loss: 0.4552\n",
      "Total Loss: 0.2077\n",
      "-------------------\n"
     ]
    },
    {
     "name": "stderr",
     "output_type": "stream",
     "text": [
      "Entrenando:  80%|████████  | 400/500 [01:38<00:27,  3.64it/s]"
     ]
    },
    {
     "name": "stdout",
     "output_type": "stream",
     "text": [
      "Epoch 400/500\n",
      "Style Loss: 0.0000\n",
      "TV Loss: 0.4405\n",
      "Total Loss: 0.1466\n",
      "-------------------\n"
     ]
    },
    {
     "name": "stderr",
     "output_type": "stream",
     "text": [
      "Entrenando: 100%|██████████| 500/500 [02:04<00:00,  4.01it/s]"
     ]
    },
    {
     "name": "stdout",
     "output_type": "stream",
     "text": [
      "Epoch 500/500\n",
      "Style Loss: 0.0000\n",
      "TV Loss: 0.4251\n",
      "Total Loss: 0.1103\n",
      "-------------------\n"
     ]
    },
    {
     "name": "stderr",
     "output_type": "stream",
     "text": [
      "\n"
     ]
    },
    {
     "data": {
      "image/png": "[encoded data removed]",
      "text/plain": [
       "<Figure size 640x480 with 1 Axes>"
      ]
     },
     "metadata": {},
     "output_type": "display_data"
    },
    {
     "name": "stdout",
     "output_type": "stream",
     "text": [
      "Modelo guardado en impressionism_style_model.pth\n",
      "\n",
      "Entrenando para el estilo: Baroque\n"
     ]
    },
    {
     "name": "stderr",
     "output_type": "stream",
     "text": [
      "Entrenando:  20%|██        | 100/500 [00:24<01:37,  4.09it/s]"
     ]
    },
    {
     "name": "stdout",
     "output_type": "stream",
     "text": [
      "Epoch 100/500\n",
      "Style Loss: 0.0000\n",
      "TV Loss: 0.2840\n",
      "Total Loss: 1.0025\n",
      "-------------------\n"
     ]
    },
    {
     "name": "stderr",
     "output_type": "stream",
     "text": [
      "Entrenando:  40%|████      | 200/500 [00:49<01:16,  3.93it/s]"
     ]
    },
    {
     "name": "stdout",
     "output_type": "stream",
     "text": [
      "Epoch 200/500\n",
      "Style Loss: 0.0000\n",
      "TV Loss: 0.2814\n",
      "Total Loss: 0.6229\n",
      "-------------------\n"
     ]
    },
    {
     "name": "stderr",
     "output_type": "stream",
     "text": [
      "Entrenando:  60%|██████    | 300/500 [01:14<00:51,  3.88it/s]"
     ]
    },
    {
     "name": "stdout",
     "output_type": "stream",
     "text": [
      "Epoch 300/500\n",
      "Style Loss: 0.0000\n",
      "TV Loss: 0.2916\n",
      "Total Loss: 0.4699\n",
      "-------------------\n"
     ]
    },
    {
     "name": "stderr",
     "output_type": "stream",
     "text": [
      "Entrenando:  80%|████████  | 400/500 [01:39<00:26,  3.75it/s]"
     ]
    },
    {
     "name": "stdout",
     "output_type": "stream",
     "text": [
      "Epoch 400/500\n",
      "Style Loss: 0.0000\n",
      "TV Loss: 0.2952\n",
      "Total Loss: 0.3812\n",
      "-------------------\n"
     ]
    },
    {
     "name": "stderr",
     "output_type": "stream",
     "text": [
      "Entrenando: 100%|██████████| 500/500 [02:04<00:00,  4.01it/s]"
     ]
    },
    {
     "name": "stdout",
     "output_type": "stream",
     "text": [
      "Epoch 500/500\n",
      "Style Loss: 0.0000\n",
      "TV Loss: 0.2974\n",
      "Total Loss: 0.3200\n",
      "-------------------\n"
     ]
    },
    {
     "name": "stderr",
     "output_type": "stream",
     "text": [
      "\n"
     ]
    },
    {
     "data": {
      "image/png": "[encoded data removed]",
      "text/plain": [
       "<Figure size 640x480 with 1 Axes>"
      ]
     },
     "metadata": {},
     "output_type": "display_data"
    },
    {
     "name": "stdout",
     "output_type": "stream",
     "text": [
      "Modelo guardado en baroque_style_model.pth\n"
     ]
    }
   ],
   "source": [
    "dataset_path = \"../../WikiArt_Dataset\"  \n",
    "train_and_save_style_models(dataset_path, max_images=500)"
   ]
  }
 ],
 "metadata": {
  "kernelspec": {
   "display_name": "Python 3",
   "language": "python",
   "name": "python3"
  },
  "language_info": {
   "codemirror_mode": {
    "name": "ipython",
    "version": 3
   },
   "file_extension": ".py",
   "mimetype": "text/x-python",
   "name": "python",
   "nbconvert_exporter": "python",
   "pygments_lexer": "ipython3",
   "version": "3.12.5"
  }
 },
 "nbformat": 4,
 "nbformat_minor": 2
}
