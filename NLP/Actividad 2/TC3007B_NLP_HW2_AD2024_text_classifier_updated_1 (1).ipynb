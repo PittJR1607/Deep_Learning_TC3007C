{
 "cells": [
  {
   "cell_type": "markdown",
   "id": "940c6dbc",
   "metadata": {
    "id": "940c6dbc"
   },
   "source": [
    "## TC3007B\n",
    "### Natural Language Processing\n",
    "\n",
    "<br>\n",
    "\n",
    "#### Activity 2: Text Classification using RNNs and AG_NEWS dataset in PyTorch\n",
    "<br>\n",
    "\n",
    "- Objective:\n",
    "    - Understand the basics of Recurrent Neural Networks (RNNs) and their application in text classification.\n",
    "    - Learn how to handle a real-world text dataset, AG_NEWS, in PyTorch.\n",
    "    - Gain hands-on experience in defining, training, and evaluating a text classification model in PyTorch.\n",
    "    \n",
    "<br>\n",
    "\n",
    "- Instructions:\n",
    "    - Data Preparation: Starter code will be provided that loads the AG_NEWS dataset and prepares it for training. Do not modify this part. However, you should be sure to understand it, and comment it, the use of markdown cells is suggested.\n",
    "\n",
    "    - Model Setup: A skeleton code for the RNN model class will be provided. Complete this class and use it to instantiate your model.\n",
    "\n",
    "    - Implementing Accuracy Function: Write a function that takes model predictions and ground truth labels as input and returns the model's accuracy.\n",
    "\n",
    "    - Training Function: Implement a function that performs training on the given model using the AG_NEWS dataset. Your model should achieve an accuracy of at least 80% to get full marks for this part.\n",
    "\n",
    "    - Text Sampling: Write a function that takes a sample text as input and classifies it using your trained model.\n",
    "\n",
    "    - Confusion Matrix: Implement a function to display the confusion matrix for your model on the test data.\n",
    "\n",
    "    - Submission: Submit your completed Jupyter Notebook. Make sure to include a markdown cell at the beginning of the notebook that lists the names of all team members. Teams should consist of 3 to 4 members.\n",
    "    \n",
    "<br>\n",
    "\n",
    "- Evaluation Criteria:\n",
    "\n",
    "    - Correct setup of all the required libraries and modules (10%)\n",
    "    - Code Quality (30%): Your code should be well-organized, clearly commented, and easy to follow. Use also markdown cells for clarity. Comments should be given for all the provided code, this will help you understand its functionality.\n",
    "    \n",
    "   - Functionality (60%):\n",
    "        - All the functions should execute without errors and provide the expected outputs.\n",
    "        - RNN model class (20%)\n",
    "        - Accuracy fucntion (10%)\n",
    "        - Training function (10%)\n",
    "        - Sampling function (10%)\n",
    "        - Confucion matrix (10%)\n",
    "\n",
    "        - The model should achieve at least an 80% accuracy on the AG_NEWS test set for full marks in this criterion.\n"
   ]
  },
  {
   "cell_type": "markdown",
   "id": "1xmNGaURGV-J",
   "metadata": {
    "id": "1xmNGaURGV-J"
   },
   "source": [
    "Team Members:\n",
    "\n",
    "A01368818 Joel Sánchez Olvera\n",
    "\n",
    "A01661090 Juan Pablo Cabrera Quiroga\n",
    "\n",
    "A01704076 Adrián Galván Díaz\n",
    "\n",
    "A01708634 Carlos Eduardo Velasco Elenes\n",
    "\n",
    "A01709522 Arturo Cristián Díaz López"
   ]
  },
  {
   "cell_type": "markdown",
   "id": "4de318da",
   "metadata": {
    "id": "4de318da"
   },
   "source": [
    "Dataset\n",
    "\n",
    "https://pytorch.org/text/stable/datasets.html#text-classification\n",
    "\n",
    "https://paperswithcode.com/dataset/ag-news\n"
   ]
  },
  {
   "cell_type": "markdown",
   "id": "4a9801f9",
   "metadata": {
    "id": "4a9801f9"
   },
   "source": [
    "#### Install libraries (if needed)"
   ]
  },
  {
   "cell_type": "markdown",
   "id": "97QE07qUQXN4",
   "metadata": {
    "id": "97QE07qUQXN4"
   },
   "source": [
    "You may need to install the following libraries to ensure version compatibility. After installing them, please Restart the Session (Runtime -> Restart Session)"
   ]
  },
  {
   "cell_type": "code",
   "execution_count": null,
   "id": "54394f53",
   "metadata": {
    "colab": {
     "base_uri": "https://localhost:8080/"
    },
    "id": "54394f53",
    "outputId": "93be1244-db31-4fcd-e265-ff5fbcb3771e"
   },
   "outputs": [
    {
     "name": "stdout",
     "output_type": "stream",
     "text": [
      "\u001b[2K   \u001b[90m━━━━━━━━━━━━━━━━━━━━━━━━━━━━━━━━━━━━━━━━\u001b[0m \u001b[32m619.9/619.9 MB\u001b[0m \u001b[31m2.5 MB/s\u001b[0m eta \u001b[36m0:00:00\u001b[0m\n",
      "\u001b[2K   \u001b[90m━━━━━━━━━━━━━━━━━━━━━━━━━━━━━━━━━━━━━━━━\u001b[0m \u001b[32m6.0/6.0 MB\u001b[0m \u001b[31m75.4 MB/s\u001b[0m eta \u001b[36m0:00:00\u001b[0m\n",
      "\u001b[2K   \u001b[90m━━━━━━━━━━━━━━━━━━━━━━━━━━━━━━━━━━━━━━━━\u001b[0m \u001b[32m4.4/4.4 MB\u001b[0m \u001b[31m66.7 MB/s\u001b[0m eta \u001b[36m0:00:00\u001b[0m\n",
      "\u001b[2K   \u001b[90m━━━━━━━━━━━━━━━━━━━━━━━━━━━━━━━━━━━━━━━━\u001b[0m \u001b[32m2.0/2.0 MB\u001b[0m \u001b[31m53.1 MB/s\u001b[0m eta \u001b[36m0:00:00\u001b[0m\n",
      "\u001b[2K   \u001b[90m━━━━━━━━━━━━━━━━━━━━━━━━━━━━━━━━━━━━━━━━\u001b[0m \u001b[32m317.1/317.1 MB\u001b[0m \u001b[31m4.7 MB/s\u001b[0m eta \u001b[36m0:00:00\u001b[0m\n",
      "\u001b[2K   \u001b[90m━━━━━━━━━━━━━━━━━━━━━━━━━━━━━━━━━━━━━━━━\u001b[0m \u001b[32m11.8/11.8 MB\u001b[0m \u001b[31m58.1 MB/s\u001b[0m eta \u001b[36m0:00:00\u001b[0m\n",
      "\u001b[2K   \u001b[90m━━━━━━━━━━━━━━━━━━━━━━━━━━━━━━━━━━━━━━━━\u001b[0m \u001b[32m21.0/21.0 MB\u001b[0m \u001b[31m57.3 MB/s\u001b[0m eta \u001b[36m0:00:00\u001b[0m\n",
      "\u001b[2K   \u001b[90m━━━━━━━━━━━━━━━━━━━━━━━━━━━━━━━━━━━━━━━━\u001b[0m \u001b[32m849.3/849.3 kB\u001b[0m \u001b[31m35.9 MB/s\u001b[0m eta \u001b[36m0:00:00\u001b[0m\n",
      "\u001b[2K   \u001b[90m━━━━━━━━━━━━━━━━━━━━━━━━━━━━━━━━━━━━━━━━\u001b[0m \u001b[32m557.1/557.1 MB\u001b[0m \u001b[31m3.3 MB/s\u001b[0m eta \u001b[36m0:00:00\u001b[0m\n",
      "\u001b[2K   \u001b[90m━━━━━━━━━━━━━━━━━━━━━━━━━━━━━━━━━━━━━━━━\u001b[0m \u001b[32m168.4/168.4 MB\u001b[0m \u001b[31m6.0 MB/s\u001b[0m eta \u001b[36m0:00:00\u001b[0m\n",
      "\u001b[2K   \u001b[90m━━━━━━━━━━━━━━━━━━━━━━━━━━━━━━━━━━━━━━━━\u001b[0m \u001b[32m54.6/54.6 MB\u001b[0m \u001b[31m11.0 MB/s\u001b[0m eta \u001b[36m0:00:00\u001b[0m\n",
      "\u001b[2K   \u001b[90m━━━━━━━━━━━━━━━━━━━━━━━━━━━━━━━━━━━━━━━━\u001b[0m \u001b[32m102.6/102.6 MB\u001b[0m \u001b[31m10.2 MB/s\u001b[0m eta \u001b[36m0:00:00\u001b[0m\n",
      "\u001b[2K   \u001b[90m━━━━━━━━━━━━━━━━━━━━━━━━━━━━━━━━━━━━━━━━\u001b[0m \u001b[32m173.2/173.2 MB\u001b[0m \u001b[31m6.2 MB/s\u001b[0m eta \u001b[36m0:00:00\u001b[0m\n",
      "\u001b[2K   \u001b[90m━━━━━━━━━━━━━━━━━━━━━━━━━━━━━━━━━━━━━━━━\u001b[0m \u001b[32m177.1/177.1 MB\u001b[0m \u001b[31m6.4 MB/s\u001b[0m eta \u001b[36m0:00:00\u001b[0m\n",
      "\u001b[2K   \u001b[90m━━━━━━━━━━━━━━━━━━━━━━━━━━━━━━━━━━━━━━━━\u001b[0m \u001b[32m98.6/98.6 kB\u001b[0m \u001b[31m8.3 MB/s\u001b[0m eta \u001b[36m0:00:00\u001b[0m\n",
      "\u001b[2K   \u001b[90m━━━━━━━━━━━━━━━━━━━━━━━━━━━━━━━━━━━━━━━━\u001b[0m \u001b[32m4.6/4.6 MB\u001b[0m \u001b[31m85.1 MB/s\u001b[0m eta \u001b[36m0:00:00\u001b[0m\n",
      "\u001b[2K   \u001b[90m━━━━━━━━━━━━━━━━━━━━━━━━━━━━━━━━━━━━━━━━\u001b[0m \u001b[32m63.3/63.3 MB\u001b[0m \u001b[31m11.6 MB/s\u001b[0m eta \u001b[36m0:00:00\u001b[0m\n",
      "\u001b[2K   \u001b[90m━━━━━━━━━━━━━━━━━━━━━━━━━━━━━━━━━━━━━━━━\u001b[0m \u001b[32m96.4/96.4 kB\u001b[0m \u001b[31m7.4 MB/s\u001b[0m eta \u001b[36m0:00:00\u001b[0m\n",
      "\u001b[?25h"
     ]
    }
   ],
   "source": [
    "!pip install -q torch==2.0.1 torchvision==0.15.2 torchaudio==2.0.2 torchtext==0.15.2"
   ]
  },
  {
   "cell_type": "code",
   "execution_count": null,
   "id": "3m9B33A8QOiI",
   "metadata": {
    "colab": {
     "base_uri": "https://localhost:8080/"
    },
    "id": "3m9B33A8QOiI",
    "outputId": "c3c2f94a-3368-4632-a9c1-46e7cc612482"
   },
   "outputs": [
    {
     "name": "stdout",
     "output_type": "stream",
     "text": [
      "\u001b[2K     \u001b[90m━━━━━━━━━━━━━━━━━━━━━━━━━━━━━━━━━━━━━━━━\u001b[0m \u001b[32m58.4/58.4 kB\u001b[0m \u001b[31m218.1 kB/s\u001b[0m eta \u001b[36m0:00:00\u001b[0m\n",
      "\u001b[2K   \u001b[90m━━━━━━━━━━━━━━━━━━━━━━━━━━━━━━━━━━━━━━━━\u001b[0m \u001b[32m33.7/33.7 MB\u001b[0m \u001b[31m35.7 MB/s\u001b[0m eta \u001b[36m0:00:00\u001b[0m\n",
      "\u001b[2K   \u001b[90m━━━━━━━━━━━━━━━━━━━━━━━━━━━━━━━━━━━━━━━━\u001b[0m \u001b[32m18.2/18.2 MB\u001b[0m \u001b[31m46.9 MB/s\u001b[0m eta \u001b[36m0:00:00\u001b[0m\n",
      "\u001b[?25h\u001b[31mERROR: pip's dependency resolver does not currently take into account all the packages that are installed. This behaviour is the source of the following dependency conflicts.\n",
      "albumentations 1.4.20 requires scipy>=1.10.0, but you have scipy 1.9.3 which is incompatible.\n",
      "jax 0.4.33 requires scipy>=1.10, but you have scipy 1.9.3 which is incompatible.\n",
      "jaxlib 0.4.33 requires scipy>=1.10, but you have scipy 1.9.3 which is incompatible.\u001b[0m\u001b[31m\n",
      "\u001b[0m"
     ]
    }
   ],
   "source": [
    "!pip install -q scipy==1.9.3\n",
    "!pip install -q scikit-plot\n",
    "#you may receive a message of restarting session, this is OK"
   ]
  },
  {
   "cell_type": "code",
   "execution_count": null,
   "id": "SfzuGL4LQRGc",
   "metadata": {
    "id": "SfzuGL4LQRGc"
   },
   "outputs": [],
   "source": [
    "!pip install -q portalocker\n",
    "#please restar session after this intallation. After restarting go straight to importing the libraries"
   ]
  },
  {
   "cell_type": "markdown",
   "id": "9IUa6uRqQtGu",
   "metadata": {
    "id": "9IUa6uRqQtGu"
   },
   "source": [
    "## Import libraries"
   ]
  },
  {
   "cell_type": "code",
   "execution_count": null,
   "id": "878b524f",
   "metadata": {
    "id": "878b524f"
   },
   "outputs": [],
   "source": [
    "# The following libraries are required for running the given code\n",
    "# Please feel free to add any libraries you consider adecuate to complete the assingment.\n",
    "import numpy as np\n",
    "#PyTorch libraries\n",
    "import torch\n",
    "from torchtext.datasets import AG_NEWS\n",
    "# Dataloader library\n",
    "from torch.utils.data import DataLoader\n",
    "from torch.utils.data.dataset import random_split\n",
    "# Libraries to prepare the data\n",
    "from torchtext.data.utils import get_tokenizer\n",
    "from torchtext.vocab import build_vocab_from_iterator\n",
    "from torchtext.data.functional import to_map_style_dataset\n",
    "# neural layers\n",
    "from torch import nn\n",
    "from torch.nn import functional as F\n",
    "\n",
    "# These libraries are suggested to plot confusion matrix\n",
    "# you may use others\n",
    "import scikitplot as skplt\n",
    "import gc"
   ]
  },
  {
   "cell_type": "code",
   "execution_count": null,
   "id": "3bab55f3",
   "metadata": {
    "colab": {
     "base_uri": "https://localhost:8080/"
    },
    "id": "3bab55f3",
    "outputId": "5ce8981d-d67d-4ede-8bd4-612ee64db5fc"
   },
   "outputs": [
    {
     "name": "stdout",
     "output_type": "stream",
     "text": [
      "cuda\n"
     ]
    }
   ],
   "source": [
    "# Use GPU if available\n",
    "device = torch.device(\"cuda\" if torch.cuda.is_available() else \"cpu\")\n",
    "print(device)"
   ]
  },
  {
   "cell_type": "markdown",
   "id": "3d38956d",
   "metadata": {
    "id": "3d38956d"
   },
   "source": [
    "### Get the train and the test datasets and dataloaders"
   ]
  },
  {
   "cell_type": "markdown",
   "id": "e9c6b784",
   "metadata": {
    "id": "e9c6b784"
   },
   "source": [
    "Classes:\n",
    "\n",
    "* 1 - World\n",
    "\n",
    "* 2 - Sports\n",
    "\n",
    "* 3 - Business\n",
    "\n",
    "* 4 - Sci/Tech\n",
    "\n",
    "We will convert them to:\n",
    "\n",
    "* 0 - World\n",
    "\n",
    "* 1 - Sports\n",
    "\n",
    "* 2 - Business\n",
    "\n",
    "* 3 - Sci/Tech"
   ]
  },
  {
   "cell_type": "code",
   "execution_count": null,
   "id": "49fbed19",
   "metadata": {
    "id": "49fbed19"
   },
   "outputs": [],
   "source": [
    "train_dataset, test_dataset = AG_NEWS()\n",
    "train_dataset, test_dataset = to_map_style_dataset(train_dataset), to_map_style_dataset(test_dataset)"
   ]
  },
  {
   "cell_type": "code",
   "execution_count": null,
   "id": "9c372eb9",
   "metadata": {
    "id": "9c372eb9"
   },
   "outputs": [],
   "source": [
    "# Get the tokeniser\n",
    "# tokeniser object\n",
    "tokeniser = get_tokenizer('basic_english')\n",
    "\n",
    "def yield_tokens(data):\n",
    "    for _, text in data:\n",
    "        yield tokeniser(text)"
   ]
  },
  {
   "cell_type": "code",
   "execution_count": null,
   "id": "794d0375",
   "metadata": {
    "id": "794d0375"
   },
   "outputs": [],
   "source": [
    "# Build the vocabulary\n",
    "vocab = build_vocab_from_iterator(yield_tokens(train_dataset), specials=[\"<unk>\"])\n",
    "#set unknown token at position 0\n",
    "vocab.set_default_index(vocab[\"<unk>\"])\n",
    "vocab_size = len(vocab)"
   ]
  },
  {
   "cell_type": "code",
   "execution_count": null,
   "id": "b48268d4",
   "metadata": {
    "colab": {
     "base_uri": "https://localhost:8080/"
    },
    "id": "b48268d4",
    "outputId": "9cdb4854-803a-484a-8417-bfa1b28b919d"
   },
   "outputs": [
    {
     "name": "stdout",
     "output_type": "stream",
     "text": [
      "['welcome', 'to', 'tc3007b'] [3314, 4, 0]\n"
     ]
    }
   ],
   "source": [
    "#test tokens\n",
    "tokens = tokeniser('Welcome to TC3007B')\n",
    "print(tokens, vocab(tokens))"
   ]
  },
  {
   "cell_type": "code",
   "execution_count": null,
   "id": "c8c8f6a6",
   "metadata": {
    "id": "c8c8f6a6"
   },
   "outputs": [],
   "source": [
    "NUM_TRAIN = int(len(train_dataset)*0.9)\n",
    "NUM_VAL = len(train_dataset) - NUM_TRAIN"
   ]
  },
  {
   "cell_type": "code",
   "execution_count": null,
   "id": "8290895e",
   "metadata": {
    "id": "8290895e"
   },
   "outputs": [],
   "source": [
    "train_dataset, val_dataset = random_split(train_dataset, [NUM_TRAIN, NUM_VAL])"
   ]
  },
  {
   "cell_type": "code",
   "execution_count": null,
   "id": "cbc75b54",
   "metadata": {
    "colab": {
     "base_uri": "https://localhost:8080/"
    },
    "id": "cbc75b54",
    "outputId": "99563697-5b39-4a34-86e7-bfc08b8a6fe8"
   },
   "outputs": [
    {
     "name": "stdout",
     "output_type": "stream",
     "text": [
      "108000 12000 7600\n"
     ]
    }
   ],
   "source": [
    "print(len(train_dataset), len(val_dataset), len(test_dataset))"
   ]
  },
  {
   "cell_type": "code",
   "execution_count": null,
   "id": "ffdbf077",
   "metadata": {
    "id": "ffdbf077"
   },
   "outputs": [],
   "source": [
    "# function passed to the DataLoader to process a batch of data as indicated\n",
    "def collate_batch(batch):\n",
    "    # Get label and text\n",
    "    y, x = list(zip(*batch))\n",
    "\n",
    "    # Create list with indices from tokeniser\n",
    "    x = [vocab(tokeniser(text)) for text in x]\n",
    "    x = [t + ([0]*(max_tokens - len(t))) if len(t) < max_tokens else t[:max_tokens] for t in x]\n",
    "\n",
    "    # Prepare the labels, by subtracting 1 to get them in the range 0-3\n",
    "    return torch.tensor(x, dtype=torch.int32), torch.tensor(y, dtype=torch.int32) - 1"
   ]
  },
  {
   "cell_type": "code",
   "execution_count": null,
   "id": "5eb459c7",
   "metadata": {
    "id": "5eb459c7"
   },
   "outputs": [],
   "source": [
    "labels =  [\"World\", \"Sports\", \"Business\", \"Sci/Tech\"]\n",
    "max_tokens = 50\n",
    "BATCH_SIZE = 256"
   ]
  },
  {
   "cell_type": "code",
   "execution_count": null,
   "id": "0a55e6ee",
   "metadata": {
    "id": "0a55e6ee"
   },
   "outputs": [],
   "source": [
    "train_loader = DataLoader(train_dataset, batch_size=BATCH_SIZE, collate_fn=collate_batch, shuffle = True)\n",
    "val_loader = DataLoader(val_dataset, batch_size=BATCH_SIZE, collate_fn=collate_batch, shuffle = True)\n",
    "test_loader = DataLoader(test_dataset, batch_size=BATCH_SIZE, collate_fn=collate_batch, shuffle = True)"
   ]
  },
  {
   "cell_type": "markdown",
   "id": "47b98898",
   "metadata": {
    "id": "47b98898"
   },
   "source": [
    "### Let us build our RNN model"
   ]
  },
  {
   "cell_type": "code",
   "execution_count": null,
   "id": "50f20793",
   "metadata": {
    "id": "50f20793"
   },
   "outputs": [],
   "source": [
    "EMBEDDING_SIZE = 300\n",
    "NEURONS = 256\n",
    "LAYERS = 2\n",
    "NUM_CLASSES = 4"
   ]
  },
  {
   "cell_type": "code",
   "execution_count": null,
   "id": "0f7f5621",
   "metadata": {
    "id": "0f7f5621"
   },
   "outputs": [],
   "source": [
    "class RNN_Model_1(nn.Module):\n",
    "    def __init__(self, embed_size, hidden, layers, num_classes):\n",
    "        \"\"\"\n",
    "        Args:\n",
    "            embed_size (int): Size of the embedding vectors.\n",
    "            hidden (int): Number of hidden units in the RNN.\n",
    "            layers (int): Number of RNN layers.\n",
    "            num_classes (int): Number of output classes.\n",
    "            vocab_size (int): Size of the vocabulary (number of unique tokens).\n",
    "        \"\"\"\n",
    "        super().__init__()\n",
    "\n",
    "        # Embedding layer\n",
    "        self.embedding_layer = nn.Embedding(num_embeddings=vocab_size, embedding_dim=embed_size)\n",
    "\n",
    "        # RNN layer (using LSTM in this case)\n",
    "        self.rnn = nn.LSTM(input_size=embed_size, hidden_size=hidden, num_layers=layers, batch_first=True)\n",
    "\n",
    "        # Fully connected layer for classification\n",
    "        self.fc = nn.Linear(hidden, num_classes)\n",
    "\n",
    "    def forward(self, x):\n",
    "        \"\"\"\n",
    "        Args:\n",
    "            x (torch.Tensor): Input tensor of shape (batch_size, seq_length).\n",
    "\n",
    "        Returns:\n",
    "            torch.Tensor: Output tensor of shape (batch_size, num_classes).\n",
    "        \"\"\"\n",
    "        # Pass through embedding layer\n",
    "        embedded = self.embedding_layer(x)  # Shape: (batch_size, seq_length, embed_size)\n",
    "\n",
    "        # Pass through RNN layer\n",
    "        rnn_out, _ = self.rnn(embedded)  # rnn_out: (batch_size, seq_length, hidden)\n",
    "                                         # _: (hidden, cell) for LSTM; hidden state for GRU/RNN\n",
    "\n",
    "        # Use the output of the last time step for classification\n",
    "        last_hidden = rnn_out[:, -1, :]  # Shape: (batch_size, hidden)\n",
    "\n",
    "        # Pass through fully connected layer\n",
    "        output = self.fc(last_hidden)  # Shape: (batch_size, num_classes)\n",
    "\n",
    "        return output\n"
   ]
  },
  {
   "cell_type": "code",
   "execution_count": null,
   "id": "2a42613f",
   "metadata": {
    "code_folding": [],
    "id": "2a42613f"
   },
   "outputs": [],
   "source": [
    "def accuracy(model, loader, device='cuda' if torch.cuda.is_available() else 'cpu'):\n",
    "    \"\"\"\n",
    "    Calculate the accuracy of the model on the given data loader.\n",
    "\n",
    "    Args:\n",
    "        model (torch.nn.Module): The trained model.\n",
    "        loader (torch.utils.data.DataLoader): DataLoader containing the dataset.\n",
    "        device (str): Device to run the calculations ('cuda' or 'cpu').\n",
    "\n",
    "    Returns:\n",
    "        float: Accuracy as a percentage.\n",
    "    \"\"\"\n",
    "    model.eval()  # Set model to evaluation mode\n",
    "    correct = 0\n",
    "    total = 0\n",
    "\n",
    "    with torch.no_grad():  # No need to compute gradients\n",
    "        for inputs, targets in loader:\n",
    "            inputs, targets = inputs.to(device), targets.to(device)\n",
    "\n",
    "            # Forward pass\n",
    "            outputs = model(inputs)\n",
    "            _, predicted = torch.max(outputs, 1)  # Get class with highest probability\n",
    "\n",
    "            # Calculate number of correct predictions\n",
    "            correct += (predicted == targets).sum().item()\n",
    "            total += targets.size(0)\n",
    "\n",
    "    return 100 * correct / total\n"
   ]
  },
  {
   "cell_type": "code",
   "execution_count": null,
   "id": "5e843e1f",
   "metadata": {
    "code_folding": [],
    "id": "5e843e1f"
   },
   "outputs": [],
   "source": [
    "def train(model, optimiser, epochs=100, device='cuda' if torch.cuda.is_available() else 'cpu'):\n",
    "    \"\"\"\n",
    "    Train the model and optionally evaluate on a validation set.\n",
    "\n",
    "    Args:\n",
    "        model (torch.nn.Module): The model to be trained.\n",
    "        optimiser (torch.optim.Optimizer): Optimizer for updating weights.\n",
    "        train_loader (torch.utils.data.DataLoader): DataLoader for training data.\n",
    "        val_loader (torch.utils.data.DataLoader, optional): DataLoader for validation data. Defaults to None.\n",
    "        epochs (int): Number of training epochs. Defaults to 100.\n",
    "        device (str): Device to run the calculations ('cuda' or 'cpu').\n",
    "\n",
    "    Returns:\n",
    "        list: Training losses per epoch.\n",
    "        list: Validation accuracies per epoch (if `val_loader` is provided).\n",
    "    \"\"\"\n",
    "    criterion = nn.CrossEntropyLoss()  # Define the loss function\n",
    "    model.to(device)  # Move model to the appropriate device\n",
    "\n",
    "    train_losses = []\n",
    "    val_accuracies = []\n",
    "\n",
    "    # Early stopping parameters\n",
    "    patience = 5\n",
    "    min_delta = 0.5  # Minimum improvement in validation accuracy\n",
    "    no_improve_count = 0\n",
    "    best_val_acc = 0.0\n",
    "\n",
    "    for epoch in range(epochs):\n",
    "        model.train()  # Set model to training mode\n",
    "        running_loss = 0.0\n",
    "\n",
    "        for inputs, targets in train_loader:\n",
    "            inputs, targets = inputs.to(device), targets.to(device)\n",
    "\n",
    "            targets = targets.long()\n",
    "\n",
    "            # Forward pass\n",
    "            outputs = model(inputs)\n",
    "            loss = criterion(outputs, targets)\n",
    "\n",
    "            # Backward pass and optimization\n",
    "            optimiser.zero_grad()\n",
    "            loss.backward()\n",
    "            optimiser.step()\n",
    "\n",
    "            # Accumulate loss\n",
    "            running_loss += loss.item()\n",
    "\n",
    "        train_loss = running_loss / len(train_loader)\n",
    "        train_losses.append(train_loss)\n",
    "\n",
    "        print(f\"Epoch [{epoch+1}/{epochs}], Training Loss: {train_loss:.4f}\")\n",
    "\n",
    "        # Validation accuracy\n",
    "        if val_loader is not None:\n",
    "            val_acc = accuracy(model, val_loader, device)\n",
    "            val_accuracies.append(val_acc)\n",
    "            print(f\"Validation Accuracy: {val_acc:.2f}%\")\n",
    "\n",
    "            # Early stopping logic\n",
    "            if val_acc > best_val_acc + min_delta:\n",
    "                best_val_acc = val_acc\n",
    "                no_improve_count = 0\n",
    "            else:\n",
    "                no_improve_count += 1\n",
    "                print(f\"No significant improvement for {no_improve_count} epochs.\")\n",
    "\n",
    "            if no_improve_count >= patience:\n",
    "                print(\"Early stopping triggered.\")\n",
    "                break\n",
    "\n",
    "    if val_loader is not None:\n",
    "        return train_losses, val_accuracies\n",
    "    return train_losses\n"
   ]
  },
  {
   "cell_type": "code",
   "execution_count": null,
   "id": "87775b29",
   "metadata": {
    "id": "87775b29"
   },
   "outputs": [],
   "source": [
    "epochs = 20\n",
    "lr = 0.001\n",
    "# instantiate model\n",
    "rnn_model = RNN_Model_1(EMBEDDING_SIZE, NEURONS, LAYERS, NUM_CLASSES)\n",
    "optimiser = torch.optim.Adam(rnn_model.parameters(), lr=lr)\n"
   ]
  },
  {
   "cell_type": "code",
   "execution_count": null,
   "id": "aec12a1b",
   "metadata": {
    "colab": {
     "base_uri": "https://localhost:8080/"
    },
    "id": "aec12a1b",
    "outputId": "86825872-b742-4fd0-9626-1d880badfaa8",
    "scrolled": true
   },
   "outputs": [
    {
     "name": "stdout",
     "output_type": "stream",
     "text": [
      "Epoch [1/20], Training Loss: 0.6463\n",
      "Validation Accuracy: 88.04%\n",
      "Epoch [2/20], Training Loss: 0.2964\n",
      "Validation Accuracy: 90.11%\n",
      "Epoch [3/20], Training Loss: 0.2146\n",
      "Validation Accuracy: 91.07%\n",
      "Epoch [4/20], Training Loss: 0.1593\n",
      "Validation Accuracy: 91.57%\n",
      "No significant improvement for 1 epochs.\n",
      "Epoch [5/20], Training Loss: 0.1138\n",
      "Validation Accuracy: 91.42%\n",
      "No significant improvement for 2 epochs.\n",
      "Epoch [6/20], Training Loss: 0.0821\n",
      "Validation Accuracy: 91.16%\n",
      "No significant improvement for 3 epochs.\n",
      "Epoch [7/20], Training Loss: 0.0624\n",
      "Validation Accuracy: 90.81%\n",
      "No significant improvement for 4 epochs.\n",
      "Epoch [8/20], Training Loss: 0.0419\n",
      "Validation Accuracy: 91.20%\n",
      "No significant improvement for 5 epochs.\n",
      "Early stopping triggered.\n"
     ]
    },
    {
     "data": {
      "text/plain": [
       "([0.6462516786080401,\n",
       "  0.29637578881888593,\n",
       "  0.21462085855445026,\n",
       "  0.1593341437384698,\n",
       "  0.11383339071478607,\n",
       "  0.0821187912323181,\n",
       "  0.0624210084678155,\n",
       "  0.04194969511414344],\n",
       " [88.04166666666667,\n",
       "  90.10833333333333,\n",
       "  91.06666666666666,\n",
       "  91.56666666666666,\n",
       "  91.425,\n",
       "  91.15833333333333,\n",
       "  90.80833333333334,\n",
       "  91.2])"
      ]
     },
     "execution_count": 52,
     "metadata": {},
     "output_type": "execute_result"
    }
   ],
   "source": [
    "train(rnn_model, optimiser=optimiser, epochs=epochs)"
   ]
  },
  {
   "cell_type": "code",
   "execution_count": null,
   "id": "7a3ef175",
   "metadata": {
    "colab": {
     "base_uri": "https://localhost:8080/"
    },
    "id": "7a3ef175",
    "outputId": "ff9f2e3d-1abe-4629-f66c-7a3259c32c34"
   },
   "outputs": [
    {
     "name": "stdout",
     "output_type": "stream",
     "text": [
      "The accuracy in the test set is: 90.6447\n"
     ]
    }
   ],
   "source": [
    "print(f'The accuracy in the test set is: {accuracy(rnn_model, test_loader):.4f}')"
   ]
  },
  {
   "cell_type": "code",
   "execution_count": null,
   "id": "ed30693d",
   "metadata": {
    "id": "ed30693d"
   },
   "outputs": [],
   "source": [
    "def sample_text(model, loader, device='cuda' if torch.cuda.is_available() else 'cpu'):\n",
    "    \"\"\"\n",
    "    Classifies sample texts using the trained model.\n",
    "\n",
    "    Args:\n",
    "        model (torch.nn.Module): Trained model.\n",
    "        loader (torch.utils.data.DataLoader): DataLoader containing the text samples.\n",
    "        device (str): Device to run the model on ('cuda' or 'cpu').\n",
    "\n",
    "    Returns:\n",
    "        list: Predictions for each sample in the loader.\n",
    "    \"\"\"\n",
    "    model.eval()  # Set model to evaluation mode\n",
    "    predictions = []\n",
    "    true_labels = []\n",
    "\n",
    "    with torch.no_grad():  # No gradient computation needed for inference\n",
    "        for inputs, targets in loader:\n",
    "            inputs = inputs.to(device)\n",
    "            targets = targets.to(device)\n",
    "\n",
    "            outputs = model(inputs)\n",
    "            _, predicted = torch.max(outputs, dim=1)  # Get the class with the highest score\n",
    "\n",
    "            predictions.extend(predicted.cpu().numpy())  # Collect predictions\n",
    "            true_labels.extend(targets.cpu().numpy())   # Collect true labels\n",
    "\n",
    "    return predictions, true_labels\n"
   ]
  },
  {
   "cell_type": "code",
   "execution_count": null,
   "id": "534f0220",
   "metadata": {
    "id": "534f0220"
   },
   "outputs": [],
   "source": [
    "predictions, true_labels = sample_text(rnn_model, test_loader)"
   ]
  },
  {
   "cell_type": "code",
   "execution_count": null,
   "id": "bb38e093",
   "metadata": {
    "id": "bb38e093"
   },
   "outputs": [],
   "source": [
    "from sklearn.metrics import confusion_matrix, ConfusionMatrixDisplay\n",
    "import matplotlib.pyplot as plt\n",
    "\n",
    "def plot_confusion_matrix(predictions, true_labels, class_names):\n",
    "    \"\"\"\n",
    "    Plots the confusion matrix.\n",
    "\n",
    "    Args:\n",
    "        predictions (list): Predicted labels.\n",
    "        true_labels (list): True labels.\n",
    "        class_names (list): List of class names corresponding to label indices.\n",
    "    \"\"\"\n",
    "    cm = confusion_matrix(true_labels, predictions)\n",
    "    disp = ConfusionMatrixDisplay(confusion_matrix=cm, display_labels=class_names)\n",
    "    disp.plot(cmap='Blues', values_format='d')\n",
    "    plt.title(\"Confusion Matrix\")\n",
    "    plt.show()"
   ]
  },
  {
   "cell_type": "code",
   "execution_count": null,
   "id": "e7d73f69",
   "metadata": {
    "colab": {
     "base_uri": "https://localhost:8080/",
     "height": 472
    },
    "id": "e7d73f69",
    "outputId": "74b8ea90-0e58-4936-9a4b-c8d65f519c4d"
   },
   "outputs": [
    {
     "data": {
      "image/png": "[encoded data removed]",
      "text/plain": [
       "<Figure size 640x480 with 2 Axes>"
      ]
     },
     "metadata": {},
     "output_type": "display_data"
    }
   ],
   "source": [
    "plot_confusion_matrix(predictions, true_labels, labels)"
   ]
  }
 ],
 "metadata": {
  "accelerator": "GPU",
  "colab": {
   "gpuType": "T4",
   "provenance": []
  },
  "kernelspec": {
   "display_name": "Python 3",
   "name": "python3"
  },
  "language_info": {
   "codemirror_mode": {
    "name": "ipython",
    "version": 3
   },
   "file_extension": ".py",
   "mimetype": "text/x-python",
   "name": "python",
   "nbconvert_exporter": "python",
   "pygments_lexer": "ipython3",
   "version": "3.11.4"
  },
  "varInspector": {
   "cols": {
    "lenName": 16,
    "lenType": 16,
    "lenVar": 40
   },
   "kernels_config": {
    "python": {
     "delete_cmd_postfix": "",
     "delete_cmd_prefix": "del ",
     "library": "var_list.py",
     "varRefreshCmd": "print(var_dic_list())"
    },
    "r": {
     "delete_cmd_postfix": ") ",
     "delete_cmd_prefix": "rm(",
     "library": "var_list.r",
     "varRefreshCmd": "cat(var_dic_list()) "
    }
   },
   "types_to_exclude": [
    "module",
    "function",
    "builtin_function_or_method",
    "instance",
    "_Feature"
   ],
   "window_display": false
  }
 },
 "nbformat": 4,
 "nbformat_minor": 5
}
